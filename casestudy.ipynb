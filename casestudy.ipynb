{
 "cells": [
  {
   "cell_type": "code",
   "execution_count": 24,
   "metadata": {},
   "outputs": [],
   "source": [
    "import pandas as pd\n",
    "import numpy as np\n",
    "import matplotlib.pyplot as plt\n",
    "import seaborn as sns"
   ]
  },
  {
   "cell_type": "code",
   "execution_count": 2,
   "metadata": {},
   "outputs": [
    {
     "data": {
      "text/html": [
       "<div>\n",
       "<style scoped>\n",
       "    .dataframe tbody tr th:only-of-type {\n",
       "        vertical-align: middle;\n",
       "    }\n",
       "\n",
       "    .dataframe tbody tr th {\n",
       "        vertical-align: top;\n",
       "    }\n",
       "\n",
       "    .dataframe thead th {\n",
       "        text-align: right;\n",
       "    }\n",
       "</style>\n",
       "<table border=\"1\" class=\"dataframe\">\n",
       "  <thead>\n",
       "    <tr style=\"text-align: right;\">\n",
       "      <th></th>\n",
       "      <th>Unnamed: 0</th>\n",
       "      <th>customer_email</th>\n",
       "      <th>net_revenue</th>\n",
       "      <th>year</th>\n",
       "    </tr>\n",
       "  </thead>\n",
       "  <tbody>\n",
       "    <tr>\n",
       "      <th>0</th>\n",
       "      <td>0</td>\n",
       "      <td>nhknapwsbx@gmail.com</td>\n",
       "      <td>249.92</td>\n",
       "      <td>2015</td>\n",
       "    </tr>\n",
       "    <tr>\n",
       "      <th>1</th>\n",
       "      <td>1</td>\n",
       "      <td>joiuzbvcpn@gmail.com</td>\n",
       "      <td>87.61</td>\n",
       "      <td>2015</td>\n",
       "    </tr>\n",
       "    <tr>\n",
       "      <th>2</th>\n",
       "      <td>2</td>\n",
       "      <td>ukkjctepxt@gmail.com</td>\n",
       "      <td>168.38</td>\n",
       "      <td>2015</td>\n",
       "    </tr>\n",
       "    <tr>\n",
       "      <th>3</th>\n",
       "      <td>3</td>\n",
       "      <td>gykatilzrt@gmail.com</td>\n",
       "      <td>62.40</td>\n",
       "      <td>2015</td>\n",
       "    </tr>\n",
       "    <tr>\n",
       "      <th>4</th>\n",
       "      <td>4</td>\n",
       "      <td>mmsgsrtxah@gmail.com</td>\n",
       "      <td>43.08</td>\n",
       "      <td>2015</td>\n",
       "    </tr>\n",
       "  </tbody>\n",
       "</table>\n",
       "</div>"
      ],
      "text/plain": [
       "   Unnamed: 0         customer_email  net_revenue  year\n",
       "0           0   nhknapwsbx@gmail.com       249.92  2015\n",
       "1           1   joiuzbvcpn@gmail.com        87.61  2015\n",
       "2           2   ukkjctepxt@gmail.com       168.38  2015\n",
       "3           3   gykatilzrt@gmail.com        62.40  2015\n",
       "4           4   mmsgsrtxah@gmail.com        43.08  2015"
      ]
     },
     "execution_count": 2,
     "metadata": {},
     "output_type": "execute_result"
    }
   ],
   "source": [
    "df = pd.read_csv('data/casestudy.csv')\n",
    "df.head()"
   ]
  },
  {
   "cell_type": "markdown",
   "metadata": {},
   "source": [
    "# Total Revenue for current year (2017)"
   ]
  },
  {
   "cell_type": "code",
   "execution_count": 3,
   "metadata": {},
   "outputs": [
    {
     "name": "stdout",
     "output_type": "stream",
     "text": [
      "Total revenue for 2017: 31417495.030000016\n"
     ]
    }
   ],
   "source": [
    "revenue_2017 = df[df['year'] == 2017]['net_revenue'].sum()\n",
    "print('Total revenue for 2017:', revenue_2017)"
   ]
  },
  {
   "cell_type": "markdown",
   "metadata": {},
   "source": [
    "# New Customer Revenue\n",
    "\n",
    "Revenue from customers who joined in 2017."
   ]
  },
  {
   "cell_type": "code",
   "execution_count": 4,
   "metadata": {},
   "outputs": [
    {
     "name": "stdout",
     "output_type": "stream",
     "text": [
      "Revenue from new customers in 2017: 57148438.62000002\n"
     ]
    }
   ],
   "source": [
    "# create 2 new dataframes for current year and previous year\n",
    "df_2017 = df[df['year'] == 2017]\n",
    "df_2016 = df[df['year'] == 2016]\n",
    "\n",
    "# Take the difference between the two dataframes by concating and dropping duplicates\n",
    "new_customers = pd.concat([df_2017, df_2016], axis=0).drop_duplicates(keep=False)\n",
    "# sum the revenue for new customers\n",
    "new_customer_revenue = new_customers['net_revenue'].sum()\n",
    "\n",
    "print('Revenue from new customers in 2017:', new_customer_revenue)"
   ]
  },
  {
   "cell_type": "markdown",
   "metadata": {},
   "source": [
    "# Existing Customer Growth\n",
    "\n",
    "Difference in revenue for all customers in the current year and previous year."
   ]
  },
  {
   "cell_type": "code",
   "execution_count": 5,
   "metadata": {},
   "outputs": [
    {
     "name": "stdout",
     "output_type": "stream",
     "text": [
      "Growth in revenue: 5686551.440000016\n"
     ]
    }
   ],
   "source": [
    "growth = df_2017['net_revenue'].sum() - df_2016['net_revenue'].sum()\n",
    "print('Growth in revenue:', growth)"
   ]
  },
  {
   "cell_type": "markdown",
   "metadata": {},
   "source": [
    "# Revenue lost from attrition"
   ]
  },
  {
   "cell_type": "code",
   "execution_count": 23,
   "metadata": {},
   "outputs": [
    {
     "name": "stdout",
     "output_type": "stream",
     "text": [
      "Revenue lost from attrition: 23110294.939999998\n"
     ]
    }
   ],
   "source": [
    "churn_df = df_2016[~df_2016['customer_email'].isin(df_2017['customer_email'])]\n",
    "print('Revenue lost from attrition:', churn_df['net_revenue'].sum())"
   ]
  },
  {
   "cell_type": "markdown",
   "metadata": {},
   "source": [
    "# Existing customer revenue Current year (2017)"
   ]
  },
  {
   "cell_type": "code",
   "execution_count": 8,
   "metadata": {},
   "outputs": [
    {
     "name": "stdout",
     "output_type": "stream",
     "text": [
      "Total revenue for 2017: 31417495.030000016\n"
     ]
    }
   ],
   "source": [
    "revenue_2017 = df_2017['net_revenue'].sum()\n",
    "print('Total revenue for 2017:', revenue_2017)"
   ]
  },
  {
   "cell_type": "markdown",
   "metadata": {},
   "source": [
    "# Existing Customer Revenue prior year (2016)"
   ]
  },
  {
   "cell_type": "code",
   "execution_count": 9,
   "metadata": {},
   "outputs": [
    {
     "name": "stdout",
     "output_type": "stream",
     "text": [
      "Total revenue for 2016: 25730943.59\n"
     ]
    }
   ],
   "source": [
    "revenue_2016 = df_2016['net_revenue'].sum()\n",
    "print('Total revenue for 2016:', revenue_2016)"
   ]
  },
  {
   "cell_type": "markdown",
   "metadata": {},
   "source": [
    "# Total Customers current year (2017)"
   ]
  },
  {
   "cell_type": "code",
   "execution_count": 10,
   "metadata": {},
   "outputs": [
    {
     "name": "stdout",
     "output_type": "stream",
     "text": [
      "Number of customers in 2017: 249987\n"
     ]
    }
   ],
   "source": [
    "customers_2017 = df_2017['customer_email'].nunique()\n",
    "print('Number of customers in 2017:', customers_2017)"
   ]
  },
  {
   "cell_type": "markdown",
   "metadata": {},
   "source": [
    "# Total Customers Prior year (2016)"
   ]
  },
  {
   "cell_type": "code",
   "execution_count": 11,
   "metadata": {},
   "outputs": [
    {
     "name": "stdout",
     "output_type": "stream",
     "text": [
      "Number of customers in 2016: 204646\n"
     ]
    }
   ],
   "source": [
    "customers_2016 = df_2016['customer_email'].nunique()\n",
    "print('Number of customers in 2016:', customers_2016)"
   ]
  },
  {
   "cell_type": "markdown",
   "metadata": {},
   "source": [
    "# New Customers"
   ]
  },
  {
   "cell_type": "code",
   "execution_count": 12,
   "metadata": {},
   "outputs": [
    {
     "name": "stdout",
     "output_type": "stream",
     "text": [
      "Number of new customers: 433674\n"
     ]
    }
   ],
   "source": [
    "new_customers_df = pd.concat([df_2017, df_2016], axis=0).drop_duplicates(keep=False)\n",
    "new_customers = new_customers['customer_email'].nunique()\n",
    "print('Number of new customers:', new_customers)"
   ]
  },
  {
   "cell_type": "markdown",
   "metadata": {},
   "source": [
    "# Lost Customers"
   ]
  },
  {
   "cell_type": "code",
   "execution_count": 22,
   "metadata": {},
   "outputs": [
    {
     "name": "stdout",
     "output_type": "stream",
     "text": [
      "Lost Customers: 183687\n"
     ]
    }
   ],
   "source": [
    "churn_df = df_2016[~df_2016['customer_email'].isin(df_2017['customer_email'])]\n",
    "churn_df['customer_email'].nunique()\n",
    "\n",
    "print('Lost Customers:', churn_df['customer_email'].nunique())"
   ]
  },
  {
   "cell_type": "markdown",
   "metadata": {},
   "source": [
    "# Visualizations\n",
    "\n",
    "## Revenue by year"
   ]
  },
  {
   "cell_type": "code",
   "execution_count": 33,
   "metadata": {},
   "outputs": [
    {
     "data": {
      "image/png": "[encoded data removed]",
      "text/plain": [
       "<Figure size 1080x720 with 1 Axes>"
      ]
     },
     "metadata": {},
     "output_type": "display_data"
    }
   ],
   "source": [
    "sns.set_theme(style='whitegrid')\n",
    "\n",
    "# create new dataframe with revenue by year\n",
    "df_revenue = df.groupby('year')['net_revenue'].sum().reset_index()\n",
    "\n",
    "# plot\n",
    "f, ax = plt.subplots(figsize=(15, 10))\n",
    "sns.barplot(data = df_revenue, x='year', y='net_revenue')\n",
    "plt.xlabel('Year')\n",
    "plt.ylabel('Revenue (Millions)')\n",
    "plt.title('Revenue by Year')\n",
    "plt.show()"
   ]
  },
  {
   "cell_type": "markdown",
   "metadata": {},
   "source": [
    "## Customer change by year"
   ]
  },
  {
   "cell_type": "code",
   "execution_count": 41,
   "metadata": {},
   "outputs": [
    {
     "data": {
      "image/png": "[encoded data removed]",
      "text/plain": [
       "<Figure size 1080x720 with 1 Axes>"
      ]
     },
     "metadata": {},
     "output_type": "display_data"
    }
   ],
   "source": [
    "df_customers = df.groupby('year')['customer_email'].nunique().reset_index()\n",
    "\n",
    "f, ax = plt.subplots(figsize=(15, 10))\n",
    "sns.barplot(data = df_customers, x='year', y='customer_email')\n",
    "plt.xlabel('Year')\n",
    "plt.ylabel('Number of Customers')\n",
    "plt.title('Number of Customers by Year')\n",
    "plt.show()"
   ]
  },
  {
   "cell_type": "markdown",
   "metadata": {},
   "source": []
  }
 ],
 "metadata": {
  "interpreter": {
   "hash": "8703c24638a3d4c1026f99ec7d84d682c6466274ff0c89f61723492c0ec80db2"
  },
  "kernelspec": {
   "display_name": "Python 3.9.12 ('env': venv)",
   "language": "python",
   "name": "python3"
  },
  "language_info": {
   "codemirror_mode": {
    "name": "ipython",
    "version": 3
   },
   "file_extension": ".py",
   "mimetype": "text/x-python",
   "name": "python",
   "nbconvert_exporter": "python",
   "pygments_lexer": "ipython3",
   "version": "3.9.12"
  },
  "orig_nbformat": 4
 },
 "nbformat": 4,
 "nbformat_minor": 2
}
